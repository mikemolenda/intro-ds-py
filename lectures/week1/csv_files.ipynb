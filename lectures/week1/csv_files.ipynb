{
 "cells": [
  {
   "cell_type": "heading",
   "metadata": {
    "collapsed": true
   },
   "level": 1,
   "source": [
    "Reading and Writing CSV"
   ]
  },
  {
   "cell_type": "code",
   "execution_count": 3,
   "metadata": {},
   "outputs": [
    {
     "data": {
      "text/plain": [
       "'%.2f'"
      ]
     },
     "execution_count": 3,
     "metadata": {},
     "output_type": "execute_result"
    }
   ],
   "source": [
    "import csv\n",
    "\n",
    "# FP precision\n",
    "%precision 2"
   ]
  },
  {
   "cell_type": "code",
   "execution_count": 5,
   "metadata": {},
   "outputs": [],
   "source": [
    "with open('data/mpg.csv') as csvfile:\n",
    "    mpg = list(csv.DictReader(csvfile))"
   ]
  },
  {
   "cell_type": "code",
   "execution_count": 6,
   "metadata": {},
   "outputs": [
    {
     "data": {
      "text/plain": [
       "[{'': '1',\n  'class': 'compact',\n  'cty': '18',\n  'cyl': '4',\n  'displ': '1.8',\n  'drv': 'f',\n  'fl': 'p',\n  'hwy': '29',\n  'manufacturer': 'audi',\n  'model': 'a4',\n  'trans': 'auto(l5)',\n  'year': '1999'},\n {'': '2',\n  'class': 'compact',\n  'cty': '21',\n  'cyl': '4',\n  'displ': '1.8',\n  'drv': 'f',\n  'fl': 'p',\n  'hwy': '29',\n  'manufacturer': 'audi',\n  'model': 'a4',\n  'trans': 'manual(m5)',\n  'year': '1999'},\n {'': '3',\n  'class': 'compact',\n  'cty': '20',\n  'cyl': '4',\n  'displ': '2',\n  'drv': 'f',\n  'fl': 'p',\n  'hwy': '31',\n  'manufacturer': 'audi',\n  'model': 'a4',\n  'trans': 'manual(m6)',\n  'year': '2008'}]"
      ]
     },
     "execution_count": 6,
     "metadata": {},
     "output_type": "execute_result"
    }
   ],
   "source": [
    "mpg[:3]"
   ]
  },
  {
   "cell_type": "code",
   "execution_count": 7,
   "metadata": {},
   "outputs": [
    {
     "data": {
      "text/plain": [
       "234"
      ]
     },
     "execution_count": 7,
     "metadata": {},
     "output_type": "execute_result"
    }
   ],
   "source": [
    "len(mpg)"
   ]
  },
  {
   "cell_type": "code",
   "execution_count": 8,
   "metadata": {},
   "outputs": [
    {
     "data": {
      "text/plain": [
       "dict_keys(['', 'model', 'hwy', 'fl', 'cty', 'trans', 'drv', 'manufacturer', 'class', 'cyl', 'displ', 'year'])"
      ]
     },
     "execution_count": 8,
     "metadata": {},
     "output_type": "execute_result"
    }
   ],
   "source": [
    "mpg[0].keys()"
   ]
  },
  {
   "cell_type": "heading",
   "metadata": {},
   "level": 2,
   "source": [
    "Get average MPG for all cars in dict"
   ]
  },
  {
   "cell_type": "code",
   "execution_count": 9,
   "metadata": {},
   "outputs": [
    {
     "data": {
      "text/plain": [
       "16.86"
      ]
     },
     "execution_count": 9,
     "metadata": {},
     "output_type": "execute_result"
    }
   ],
   "source": [
    "sum(float(entry['cty']) for entry in mpg) / len(mpg)"
   ]
  },
  {
   "cell_type": "code",
   "execution_count": 10,
   "metadata": {},
   "outputs": [
    {
     "data": {
      "text/plain": [
       "23.44"
      ]
     },
     "execution_count": 10,
     "metadata": {},
     "output_type": "execute_result"
    }
   ],
   "source": [
    "sum(float(entry['hwy']) for entry in mpg) / len(mpg)"
   ]
  },
  {
   "cell_type": "markdown",
   "metadata": {},
   "source": [
    "These are map/reduce operations in Python: map each entry to its cty or hwy mileage value, and reduce to a single value: the sum of these values"
   ]
  },
  {
   "cell_type": "heading",
   "metadata": {},
   "level": 2,
   "source": [
    "Group average city mileages by number of cylinders"
   ]
  },
  {
   "cell_type": "code",
   "execution_count": 19,
   "metadata": {},
   "outputs": [
    {
     "data": {
      "text/plain": [
       "{'4', '5', '6', '8'}"
      ]
     },
     "execution_count": 19,
     "metadata": {},
     "output_type": "execute_result"
    }
   ],
   "source": [
    "cylinder_types = set(entry['cyl'] for entry in mpg)\n",
    "cylinder_types"
   ]
  },
  {
   "cell_type": "code",
   "execution_count": null,
   "metadata": {},
   "outputs": [
    {
     "data": {
      "text/plain": [
       "[('4', 21.01), ('5', 20.50), ('6', 16.22), ('8', 12.57)]"
      ]
     },
     "execution_count": 39,
     "metadata": {},
     "output_type": "execute_result"
    }
   ],
   "source": [
    "avg_cty_mpg_by_cyl = []\n",
    "\n",
    "for cyl_type in cylinder_types:\n",
    "    sum_mpg = 0\n",
    "    cyl_type_count = 0\n",
    "    \n",
    "    for entry in mpg:\n",
    "        if entry['cyl'] == cyl_type:\n",
    "            sum_mpg += float(entry['cty'])\n",
    "            cyl_type_count += 1\n",
    "                  \n",
    "    avg_cty_mpg_by_cyl.append((cyl_type, sum_mpg / cyl_type_count))\n",
    "\n",
    "# Sort by number of cylinders ascending\n",
    "avg_cty_mpg_by_cyl.sort(key=lambda avg_collection: avg_collection[0])    \n",
    "avg_cty_mpg_by_cyl"
   ]
  },
  {
   "cell_type": "code",
   "execution_count": 40,
   "metadata": {},
   "outputs": [
    {
     "data": {
      "text/plain": [
       "[('8', 12.57), ('6', 16.22), ('5', 20.50), ('4', 21.01)]"
      ]
     },
     "execution_count": 40,
     "metadata": {},
     "output_type": "execute_result"
    }
   ],
   "source": [
    "# sort by avg mpg ascending\n",
    "avg_cty_mpg_by_cyl.sort(key=lambda avg_collection: avg_collection[1])    \n",
    "avg_cty_mpg_by_cyl"
   ]
  },
  {
   "cell_type": "heading",
   "metadata": {},
   "level": 2,
   "source": [
    "Group average city mileages by vehicle class"
   ]
  },
  {
   "cell_type": "code",
   "execution_count": 35,
   "metadata": {},
   "outputs": [
    {
     "data": {
      "text/plain": [
       "{'2seater', 'compact', 'midsize', 'minivan', 'pickup', 'subcompact', 'suv'}"
      ]
     },
     "execution_count": 35,
     "metadata": {},
     "output_type": "execute_result"
    }
   ],
   "source": [
    "vehicle_classes = set(entry['class'] for entry in mpg)\n",
    "vehicle_classes"
   ]
  },
  {
   "cell_type": "code",
   "execution_count": 41,
   "metadata": {},
   "outputs": [
    {
     "data": {
      "text/plain": [
       "[('subcompact', 20.37),\n ('compact', 20.13),\n ('midsize', 18.76),\n ('minivan', 15.82),\n ('2seater', 15.40),\n ('suv', 13.50),\n ('pickup', 13.00)]"
      ]
     },
     "execution_count": 41,
     "metadata": {},
     "output_type": "execute_result"
    }
   ],
   "source": [
    "avg_cty_mpg_by_class = []\n",
    "\n",
    "for vehicle_class in vehicle_classes:\n",
    "    sum_mpg = 0\n",
    "    class_count = 0\n",
    "    \n",
    "    for entry in mpg:\n",
    "        if entry['class'] == vehicle_class:\n",
    "            sum_mpg += float(entry['cty'])\n",
    "            class_count += 1\n",
    "            \n",
    "    avg_cty_mpg_by_class.append((vehicle_class, sum_mpg / class_count))\n",
    "\n",
    "# Sort by cty mpg descending   \n",
    "avg_cty_mpg_by_class.sort(key=lambda avg_collection: avg_collection[1], reverse=True)\n",
    "avg_cty_mpg_by_class"
   ]
  },
  {
   "cell_type": "code",
   "execution_count": null,
   "metadata": {},
   "outputs": [],
   "source": [
    ""
   ]
  }
 ],
 "metadata": {
  "kernelspec": {
   "display_name": "Python 2",
   "language": "python",
   "name": "python2"
  },
  "language_info": {
   "codemirror_mode": {
    "name": "ipython",
    "version": 2.0
   },
   "file_extension": ".py",
   "mimetype": "text/x-python",
   "name": "python",
   "nbconvert_exporter": "python",
   "pygments_lexer": "ipython2",
   "version": "2.7.6"
  }
 },
 "nbformat": 4,
 "nbformat_minor": 0
}