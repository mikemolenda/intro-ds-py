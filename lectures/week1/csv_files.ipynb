{
 "cells": [
  {
   "cell_type": "heading",
   "metadata": {
    "collapsed": true
   },
   "level": 1,
   "source": [
    "Reading and Writing CSV"
   ]
  },
  {
   "cell_type": "code",
   "execution_count": 3,
   "metadata": {},
   "outputs": [
    {
     "data": {
      "text/plain": [
       "'%.2f'"
      ]
     },
     "execution_count": 3,
     "metadata": {},
     "output_type": "execute_result"
    }
   ],
   "source": [
    "import csv\n",
    "\n",
    "# FP precision\n",
    "%precision 2"
   ]
  },
  {
   "cell_type": "code",
   "execution_count": 5,
   "metadata": {},
   "outputs": [],
   "source": [
    "with open('data/mpg.csv') as csvfile:\n",
    "    mpg = list(csv.DictReader(csvfile))"
   ]
  },
  {
   "cell_type": "code",
   "execution_count": 6,
   "metadata": {},
   "outputs": [
    {
     "data": {
      "text/plain": [
       "[{'': '1',\n  'class': 'compact',\n  'cty': '18',\n  'cyl': '4',\n  'displ': '1.8',\n  'drv': 'f',\n  'fl': 'p',\n  'hwy': '29',\n  'manufacturer': 'audi',\n  'model': 'a4',\n  'trans': 'auto(l5)',\n  'year': '1999'},\n {'': '2',\n  'class': 'compact',\n  'cty': '21',\n  'cyl': '4',\n  'displ': '1.8',\n  'drv': 'f',\n  'fl': 'p',\n  'hwy': '29',\n  'manufacturer': 'audi',\n  'model': 'a4',\n  'trans': 'manual(m5)',\n  'year': '1999'},\n {'': '3',\n  'class': 'compact',\n  'cty': '20',\n  'cyl': '4',\n  'displ': '2',\n  'drv': 'f',\n  'fl': 'p',\n  'hwy': '31',\n  'manufacturer': 'audi',\n  'model': 'a4',\n  'trans': 'manual(m6)',\n  'year': '2008'}]"
      ]
     },
     "execution_count": 6,
     "metadata": {},
     "output_type": "execute_result"
    }
   ],
   "source": [
    "mpg[:3]"
   ]
  },
  {
   "cell_type": "code",
   "execution_count": null,
   "metadata": {},
   "outputs": [],
   "source": [
    ""
   ]
  }
 ],
 "metadata": {
  "kernelspec": {
   "display_name": "Python 2",
   "language": "python",
   "name": "python2"
  },
  "language_info": {
   "codemirror_mode": {
    "name": "ipython",
    "version": 2.0
   },
   "file_extension": ".py",
   "mimetype": "text/x-python",
   "name": "python",
   "nbconvert_exporter": "python",
   "pygments_lexer": "ipython2",
   "version": "2.7.6"
  }
 },
 "nbformat": 4,
 "nbformat_minor": 0
}