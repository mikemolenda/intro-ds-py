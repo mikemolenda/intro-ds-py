{
 "metadata": {
  "name": "",
  "signature": "sha256:c5e7e8200178c480125c750e4a027cb1f2e97a70a9d9d0ffced6989e0f53c518"
 },
 "nbformat": 3,
 "nbformat_minor": 0,
 "worksheets": [
  {
   "cells": [
    {
     "cell_type": "heading",
     "level": 1,
     "metadata": {},
     "source": [
      "Objects"
     ]
    },
    {
     "cell_type": "code",
     "collapsed": false,
     "input": [
      "class Person:\n",
      "    department = 'School of Information'\n",
      "    \n",
      "    def __init__(self, name, location):\n",
      "        self.set_name(name)\n",
      "        self.set_location(location)\n",
      "    \n",
      "    def set_name(self, name):\n",
      "        self.name = name\n",
      "        \n",
      "    def set_location(self, location):\n",
      "        self.location = location"
     ],
     "language": "python",
     "metadata": {},
     "outputs": [],
     "prompt_number": 6
    },
    {
     "cell_type": "code",
     "collapsed": false,
     "input": [
      "sample_person = Person('Mike', 'Chicago')\n",
      "sample_person.location"
     ],
     "language": "python",
     "metadata": {},
     "outputs": [
      {
       "metadata": {},
       "output_type": "pyout",
       "prompt_number": 7,
       "text": [
        "'Chicago'"
       ]
      }
     ],
     "prompt_number": 7
    },
    {
     "cell_type": "heading",
     "level": 1,
     "metadata": {},
     "source": [
      "Map(), Functional Programming"
     ]
    },
    {
     "cell_type": "markdown",
     "metadata": {},
     "source": [
      "`map(function, iterable...)` Applies specified function to every item of each iterable, yielding a transformed iterable as the result. Stops after the shortest iterable is exhausted."
     ]
    },
    {
     "cell_type": "code",
     "collapsed": false,
     "input": [
      "prices_store_1 = [10.0, 11.0, 12.34, 2.34]\n",
      "prices_store_2 = [9.0, 11.1, 12.34, 2.01]"
     ],
     "language": "python",
     "metadata": {},
     "outputs": [],
     "prompt_number": 9
    },
    {
     "cell_type": "code",
     "collapsed": false,
     "input": [
      "lowest_prices = map(min, prices_store_1, prices_store_2)\n",
      "for price in lowest_prices:\n",
      "    print(price)"
     ],
     "language": "python",
     "metadata": {},
     "outputs": [
      {
       "output_type": "stream",
       "stream": "stdout",
       "text": [
        "9.0\n",
        "11.0\n",
        "12.34\n",
        "2.01\n"
       ]
      }
     ],
     "prompt_number": 12
    },
    {
     "cell_type": "code",
     "collapsed": false,
     "input": [
      "def half(price):\n",
      "    return price / 2\n",
      "\n",
      "half_off_store_1 = map(half, prices_store_1)\n",
      "for price in half_off_store_1:\n",
      "    print(price)"
     ],
     "language": "python",
     "metadata": {},
     "outputs": [
      {
       "output_type": "stream",
       "stream": "stdout",
       "text": [
        "5.0\n",
        "5.5\n",
        "6.17\n",
        "1.17\n"
       ]
      }
     ],
     "prompt_number": 13
    },
    {
     "cell_type": "code",
     "collapsed": false,
     "input": [
      "people = ['Dr. Christopher Brooks', 'Dr. Kevyn Collins-Thompson', 'Dr. VG Vinod Vydiswaran', 'Dr. Daniel Romero']"
     ],
     "language": "python",
     "metadata": {},
     "outputs": [],
     "prompt_number": 14
    },
    {
     "cell_type": "code",
     "collapsed": false,
     "input": [
      "def get_title_and_last_name(full_name_with_title):\n",
      "    title = full_name_with_title.split()[0]\n",
      "    last_name = full_name_with_title.split()[-1]\n",
      "    return title + ' ' + last_name\n",
      "\n",
      "last_names_with_titles = map(get_title_and_last_name, people)\n",
      "\n",
      "for name in last_names_with_titles:\n",
      "    print(name)"
     ],
     "language": "python",
     "metadata": {},
     "outputs": [
      {
       "output_type": "stream",
       "stream": "stdout",
       "text": [
        "Dr. Brooks\n",
        "Dr. Collins-Thompson\n",
        "Dr. Vydiswaran\n",
        "Dr. Romero\n"
       ]
      }
     ],
     "prompt_number": 17
    },
    {
     "cell_type": "code",
     "collapsed": false,
     "input": [],
     "language": "python",
     "metadata": {},
     "outputs": []
    }
   ],
   "metadata": {}
  }
 ]
}