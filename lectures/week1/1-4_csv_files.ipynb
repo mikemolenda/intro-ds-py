{
 "metadata": {
  "kernelspec": {
   "display_name": "Python 2",
   "language": "python",
   "name": "python2"
  },
  "language_info": {
   "codemirror_mode": {
    "name": "ipython",
    "version": 2
   },
   "file_extension": ".py",
   "mimetype": "text/x-python",
   "name": "python",
   "nbconvert_exporter": "python",
   "pygments_lexer": "ipython2",
   "version": "2.7.6"
  },
  "name": "",
  "signature": "sha256:2c484003be93afcd120bb5d0dfc6204da9d01aa91edb0f081e1ae221a59edf80"
 },
 "nbformat": 3,
 "nbformat_minor": 0,
 "worksheets": [
  {
   "cells": [
    {
     "cell_type": "markdown",
     "metadata": {},
     "source": [
      "# Reading CSV to list of dicts"
     ]
    },
    {
     "cell_type": "code",
     "collapsed": false,
     "input": [
      "import csv\n",
      "\n",
      "# FP precision\n",
      "%precision 2"
     ],
     "language": "python",
     "metadata": {},
     "outputs": [
      {
       "metadata": {},
       "output_type": "pyout",
       "prompt_number": 19,
       "text": [
        "u'%.2f'"
       ]
      }
     ],
     "prompt_number": 19
    },
    {
     "cell_type": "markdown",
     "metadata": {},
     "source": [
      "**with** loads a file, performs the processing specified in its block, and ensures the file is closed. Here, it opens mpg.csv and uses csv.DictReader to store its rows in a list of dictionaries."
     ]
    },
    {
     "cell_type": "code",
     "collapsed": false,
     "input": [
      "with open('../../data/mpg.csv') as csvfile:\n",
      "    mpg = list(csv.DictReader(csvfile))"
     ],
     "language": "python",
     "metadata": {},
     "outputs": [],
     "prompt_number": 20
    },
    {
     "cell_type": "code",
     "collapsed": false,
     "input": [
      "mpg[:3]"
     ],
     "language": "python",
     "metadata": {},
     "outputs": [
      {
       "metadata": {},
       "output_type": "pyout",
       "prompt_number": 21,
       "text": [
        "[{'': '1',\n",
        "  'class': 'compact',\n",
        "  'cty': '18',\n",
        "  'cyl': '4',\n",
        "  'displ': '1.8',\n",
        "  'drv': 'f',\n",
        "  'fl': 'p',\n",
        "  'hwy': '29',\n",
        "  'manufacturer': 'audi',\n",
        "  'model': 'a4',\n",
        "  'trans': 'auto(l5)',\n",
        "  'year': '1999'},\n",
        " {'': '2',\n",
        "  'class': 'compact',\n",
        "  'cty': '21',\n",
        "  'cyl': '4',\n",
        "  'displ': '1.8',\n",
        "  'drv': 'f',\n",
        "  'fl': 'p',\n",
        "  'hwy': '29',\n",
        "  'manufacturer': 'audi',\n",
        "  'model': 'a4',\n",
        "  'trans': 'manual(m5)',\n",
        "  'year': '1999'},\n",
        " {'': '3',\n",
        "  'class': 'compact',\n",
        "  'cty': '20',\n",
        "  'cyl': '4',\n",
        "  'displ': '2',\n",
        "  'drv': 'f',\n",
        "  'fl': 'p',\n",
        "  'hwy': '31',\n",
        "  'manufacturer': 'audi',\n",
        "  'model': 'a4',\n",
        "  'trans': 'manual(m6)',\n",
        "  'year': '2008'}]"
       ]
      }
     ],
     "prompt_number": 21
    },
    {
     "cell_type": "code",
     "collapsed": false,
     "input": [
      "len(mpg)"
     ],
     "language": "python",
     "metadata": {},
     "outputs": [
      {
       "metadata": {},
       "output_type": "pyout",
       "prompt_number": 22,
       "text": [
        "234"
       ]
      }
     ],
     "prompt_number": 22
    },
    {
     "cell_type": "code",
     "collapsed": false,
     "input": [
      "mpg[0].keys()"
     ],
     "language": "python",
     "metadata": {},
     "outputs": [
      {
       "metadata": {},
       "output_type": "pyout",
       "prompt_number": 23,
       "text": [
        "['',\n",
        " 'trans',\n",
        " 'displ',\n",
        " 'hwy',\n",
        " 'cty',\n",
        " 'drv',\n",
        " 'year',\n",
        " 'model',\n",
        " 'manufacturer',\n",
        " 'fl',\n",
        " 'class',\n",
        " 'cyl']"
       ]
      }
     ],
     "prompt_number": 23
    },
    {
     "cell_type": "markdown",
     "metadata": {},
     "source": [
      "# Get average MPG for all cars in dict"
     ]
    },
    {
     "cell_type": "code",
     "collapsed": false,
     "input": [
      "sum(float(entry['cty']) for entry in mpg) / len(mpg)"
     ],
     "language": "python",
     "metadata": {},
     "outputs": [
      {
       "metadata": {},
       "output_type": "pyout",
       "prompt_number": 24,
       "text": [
        "16.86"
       ]
      }
     ],
     "prompt_number": 24
    },
    {
     "cell_type": "code",
     "collapsed": false,
     "input": [
      "sum(float(entry['hwy']) for entry in mpg) / len(mpg)"
     ],
     "language": "python",
     "metadata": {},
     "outputs": [
      {
       "metadata": {},
       "output_type": "pyout",
       "prompt_number": 25,
       "text": [
        "23.44"
       ]
      }
     ],
     "prompt_number": 25
    },
    {
     "cell_type": "markdown",
     "metadata": {},
     "source": [
      "These are map/reduce operations in Python: map each entry to its cty or hwy mileage value, and reduce to a single value: the sum of these values"
     ]
    },
    {
     "cell_type": "markdown",
     "metadata": {},
     "source": [
      "# Group average city mileages by number of cylinders"
     ]
    },
    {
     "cell_type": "code",
     "collapsed": false,
     "input": [
      "cylinder_types = set(entry['cyl'] for entry in mpg)\n",
      "cylinder_types"
     ],
     "language": "python",
     "metadata": {},
     "outputs": [
      {
       "metadata": {},
       "output_type": "pyout",
       "prompt_number": 26,
       "text": [
        "{'4', '5', '6', '8'}"
       ]
      }
     ],
     "prompt_number": 26
    },
    {
     "cell_type": "code",
     "collapsed": false,
     "input": [
      "avg_cty_mpg_by_cyl = []\n",
      "\n",
      "for cyl_type in cylinder_types:\n",
      "    sum_mpg = 0\n",
      "    cyl_type_count = 0\n",
      "    \n",
      "    for entry in mpg:\n",
      "        if entry['cyl'] == cyl_type:\n",
      "            sum_mpg += float(entry['cty'])\n",
      "            cyl_type_count += 1\n",
      "                  \n",
      "    avg_cty_mpg_by_cyl.append((cyl_type, sum_mpg / cyl_type_count))\n",
      "\n",
      "# Sort by number of cylinders ascending\n",
      "avg_cty_mpg_by_cyl.sort(key=lambda avg_collection: avg_collection[0])    \n",
      "avg_cty_mpg_by_cyl"
     ],
     "language": "python",
     "metadata": {},
     "outputs": [
      {
       "metadata": {},
       "output_type": "pyout",
       "prompt_number": 27,
       "text": [
        "[('4', 21.01), ('5', 20.50), ('6', 16.22), ('8', 12.57)]"
       ]
      }
     ],
     "prompt_number": 27
    },
    {
     "cell_type": "code",
     "collapsed": false,
     "input": [
      "# sort by avg mpg ascending\n",
      "avg_cty_mpg_by_cyl.sort(key=lambda avg_collection: avg_collection[1])    \n",
      "avg_cty_mpg_by_cyl"
     ],
     "language": "python",
     "metadata": {},
     "outputs": [
      {
       "metadata": {},
       "output_type": "pyout",
       "prompt_number": 28,
       "text": [
        "[('8', 12.57), ('6', 16.22), ('5', 20.50), ('4', 21.01)]"
       ]
      }
     ],
     "prompt_number": 28
    },
    {
     "cell_type": "markdown",
     "metadata": {},
     "source": [
      "# Group average city mileages by vehicle class"
     ]
    },
    {
     "cell_type": "code",
     "collapsed": false,
     "input": [
      "vehicle_classes = set(entry['class'] for entry in mpg)\n",
      "vehicle_classes"
     ],
     "language": "python",
     "metadata": {},
     "outputs": [
      {
       "metadata": {},
       "output_type": "pyout",
       "prompt_number": 29,
       "text": [
        "{'2seater', 'compact', 'midsize', 'minivan', 'pickup', 'subcompact', 'suv'}"
       ]
      }
     ],
     "prompt_number": 29
    },
    {
     "cell_type": "code",
     "collapsed": false,
     "input": [
      "avg_cty_mpg_by_class = []\n",
      "\n",
      "for vehicle_class in vehicle_classes:\n",
      "    sum_mpg = 0\n",
      "    class_count = 0\n",
      "    \n",
      "    for entry in mpg:\n",
      "        if entry['class'] == vehicle_class:\n",
      "            sum_mpg += float(entry['cty'])\n",
      "            class_count += 1\n",
      "            \n",
      "    avg_cty_mpg_by_class.append((vehicle_class, sum_mpg / class_count))\n",
      "\n",
      "# Sort by cty mpg descending   \n",
      "avg_cty_mpg_by_class.sort(key=lambda avg_collection: avg_collection[1], reverse=True)\n",
      "avg_cty_mpg_by_class"
     ],
     "language": "python",
     "metadata": {},
     "outputs": [
      {
       "metadata": {},
       "output_type": "pyout",
       "prompt_number": 30,
       "text": [
        "[('subcompact', 20.37),\n",
        " ('compact', 20.13),\n",
        " ('midsize', 18.76),\n",
        " ('minivan', 15.82),\n",
        " ('2seater', 15.40),\n",
        " ('suv', 13.50),\n",
        " ('pickup', 13.00)]"
       ]
      }
     ],
     "prompt_number": 30
    },
    {
     "cell_type": "code",
     "collapsed": false,
     "input": [],
     "language": "python",
     "metadata": {},
     "outputs": [],
     "prompt_number": 30
    },
    {
     "cell_type": "code",
     "collapsed": false,
     "input": [],
     "language": "python",
     "metadata": {},
     "outputs": []
    }
   ],
   "metadata": {}
  }
 ]
}