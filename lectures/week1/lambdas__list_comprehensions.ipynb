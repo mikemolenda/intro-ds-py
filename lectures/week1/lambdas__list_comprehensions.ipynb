{
 "metadata": {
  "name": "",
  "signature": "sha256:0239e30925080d409cb90881ae3a19aa79b31b74b12ef1259011131fc1d95055"
 },
 "nbformat": 3,
 "nbformat_minor": 0,
 "worksheets": [
  {
   "cells": [
    {
     "cell_type": "code",
     "collapsed": false,
     "input": [],
     "language": "python",
     "metadata": {},
     "outputs": []
    }
   ],
   "metadata": {}
  }
 ]
}