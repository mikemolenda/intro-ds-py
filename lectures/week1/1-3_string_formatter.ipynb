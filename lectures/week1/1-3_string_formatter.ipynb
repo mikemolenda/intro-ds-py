{
 "metadata": {
  "name": "",
  "signature": "sha256:659b17dffa8fbb1e2f78ba26f40c79969c343faf50b7659e06253dc0b207ca33"
 },
 "nbformat": 3,
 "nbformat_minor": 0,
 "worksheets": [
  {
   "cells": [
    {
     "cell_type": "markdown",
     "metadata": {},
     "source": [
      "# String formatter\n",
      "Substitute values for wildcards in a format statement.\n",
      "Wildcards may specify order, type and format."
     ]
    },
    {
     "cell_type": "code",
     "collapsed": false,
     "input": [
      "sales_record = {'item': 'banana', \n",
      "                'price': 0.29,\n",
      "                'quantity': 6,\n",
      "                'person': 'Ape Man'}"
     ],
     "language": "python",
     "metadata": {},
     "outputs": [],
     "prompt_number": 1
    },
    {
     "cell_type": "code",
     "collapsed": false,
     "input": [
      "sales_statement = '{} bought {} {}{} at ${:.2f} each, for a total of ${:.2f}'"
     ],
     "language": "python",
     "metadata": {},
     "outputs": [],
     "prompt_number": 4
    },
    {
     "cell_type": "code",
     "collapsed": false,
     "input": [
      "sales_statement.format(sales_record['person'],\n",
      "                       sales_record['quantity'],\n",
      "                       sales_record['item'], \n",
      "                       's' if sales_record['quantity'] > 1 else '',\n",
      "                       sales_record['price'],\n",
      "                       sales_record['price'] * sales_record['quantity'])"
     ],
     "language": "python",
     "metadata": {},
     "outputs": [
      {
       "metadata": {},
       "output_type": "pyout",
       "prompt_number": 5,
       "text": [
        "'Ape Man bought 6 bananas at $0.29 each, for a total of $1.74'"
       ]
      }
     ],
     "prompt_number": 5
    },
    {
     "cell_type": "code",
     "collapsed": false,
     "input": [
      "'{1} bought {0}'.format(sales_record['item'], sales_record['person'])"
     ],
     "language": "python",
     "metadata": {},
     "outputs": [
      {
       "metadata": {},
       "output_type": "pyout",
       "prompt_number": 7,
       "text": [
        "'Ape Man bought banana'"
       ]
      }
     ],
     "prompt_number": 7
    },
    {
     "cell_type": "code",
     "collapsed": false,
     "input": [],
     "language": "python",
     "metadata": {},
     "outputs": []
    }
   ],
   "metadata": {}
  }
 ]
}