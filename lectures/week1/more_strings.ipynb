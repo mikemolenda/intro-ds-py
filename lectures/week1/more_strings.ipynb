{
 "cells": [
  {
   "cell_type": "heading",
   "metadata": {
    "collapsed": true
   },
   "level": 1,
   "source": [
    "More Strings"
   ]
  },
  {
   "cell_type": "heading",
   "metadata": {},
   "level": 2,
   "source": [
    "String formatter"
   ]
  },
  {
   "cell_type": "code",
   "execution_count": 11,
   "metadata": {},
   "outputs": [],
   "source": [
    "sales_record = {'item': 'banana', 'price': 0.29, 'quantity': 6, 'person': 'Ape Man'}"
   ]
  },
  {
   "cell_type": "code",
   "execution_count": 16,
   "metadata": {},
   "outputs": [],
   "source": [
    "sales_statement = '{} bought {} {}{} at ${:.2f} each, for a total of ${:.2f}'"
   ]
  },
  {
   "cell_type": "code",
   "execution_count": 17,
   "metadata": {},
   "outputs": [
    {
     "name": "stdout",
     "output_type": "stream",
     "text": [
      "Ape Man bought 6 bananas at $0.29 each, for a total of $1.74\n"
     ]
    }
   ],
   "source": [
    "print(sales_statement.format(sales_record['person'],\n",
    "                             sales_record['quantity'],\n",
    "                             sales_record['item'],\n",
    "                             's' if sales_record['quantity'] > 1 else '',\n",
    "                             sales_record['price'],\n",
    "                             sales_record['price'] * sales_record['quantity']))"
   ]
  },
  {
   "cell_type": "code",
   "execution_count": null,
   "metadata": {},
   "outputs": [],
   "source": [
    ""
   ]
  }
 ],
 "metadata": {
  "kernelspec": {
   "display_name": "Python 2",
   "language": "python",
   "name": "python2"
  },
  "language_info": {
   "codemirror_mode": {
    "name": "ipython",
    "version": 2.0
   },
   "file_extension": ".py",
   "mimetype": "text/x-python",
   "name": "python",
   "nbconvert_exporter": "python",
   "pygments_lexer": "ipython2",
   "version": "2.7.6"
  }
 },
 "nbformat": 4,
 "nbformat_minor": 0
}